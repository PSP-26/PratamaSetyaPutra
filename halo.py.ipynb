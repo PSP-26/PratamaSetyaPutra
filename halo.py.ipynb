{
 "cells": [
  {
   "cell_type": "code",
   "execution_count": 1,
   "id": "94b3d3f6",
   "metadata": {},
   "outputs": [
    {
     "name": "stdout",
     "output_type": "stream",
     "text": [
      "Program halo.py\n",
      "oleh : Pratama Setya Putra (20/455423/PA/19638)\n"
     ]
    }
   ],
   "source": [
    "print(\"Program halo.py\")\n",
    "print(\"oleh : Pratama Setya Putra (20/455423/PA/19638)\")"
   ]
  },
  {
   "cell_type": "code",
   "execution_count": 8,
   "id": "bfdaa332",
   "metadata": {},
   "outputs": [
    {
     "name": "stdout",
     "output_type": "stream",
     "text": [
      "Hallo, mari bermain penjumlahan\n",
      "9 + 10 = 90\n"
     ]
    }
   ],
   "source": [
    "print(\"Hallo, mari bermain penjumlahan\")\n",
    "A=9\n",
    "B=10\n",
    "Jumlah= A*B\n",
    "print(A, \"+\", B, \"=\", Jumlah )"
   ]
  },
  {
   "cell_type": "code",
   "execution_count": 9,
   "id": "b6ffbe80",
   "metadata": {},
   "outputs": [
    {
     "name": "stdout",
     "output_type": "stream",
     "text": [
      "Terima Kasih\n"
     ]
    }
   ],
   "source": [
    "print(\"Terima Kasih\")"
   ]
  },
  {
   "cell_type": "code",
   "execution_count": null,
   "id": "edb869e5",
   "metadata": {},
   "outputs": [],
   "source": []
  }
 ],
 "metadata": {
  "kernelspec": {
   "display_name": "Python 3",
   "language": "python",
   "name": "python3"
  },
  "language_info": {
   "codemirror_mode": {
    "name": "ipython",
    "version": 3
   },
   "file_extension": ".py",
   "mimetype": "text/x-python",
   "name": "python",
   "nbconvert_exporter": "python",
   "pygments_lexer": "ipython3",
   "version": "3.8.5"
  }
 },
 "nbformat": 4,
 "nbformat_minor": 5
}
